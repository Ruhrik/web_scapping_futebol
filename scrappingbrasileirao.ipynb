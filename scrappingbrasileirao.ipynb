{
 "cells": [
  {
   "cell_type": "code",
   "execution_count": 26,
   "outputs": [],
   "source": [
    "import sqlite3\n",
    "import requests\n",
    "from bs4 import BeautifulSoup\n",
    "from selenium import webdriver\n",
    "from selenium.webdriver.common.by import By\n",
    "from selenium.webdriver.support.ui import WebDriverWait\n",
    "from selenium.webdriver.support import expected_conditions as EC\n",
    "from selenium.common.exceptions import NoSuchElementException, ElementClickInterceptedException"
   ],
   "metadata": {
    "collapsed": false,
    "ExecuteTime": {
     "end_time": "2023-07-06T17:14:30.992931543Z",
     "start_time": "2023-07-06T17:14:30.974600909Z"
    }
   }
  },
  {
   "cell_type": "code",
   "execution_count": 38,
   "outputs": [
    {
     "name": "stdout",
     "output_type": "stream",
     "text": [
      "Botafogo - BOT\n",
      "Grêmio - GRE\n",
      "Flamengo - FLA\n",
      "Palmeiras - PAL\n",
      "Bragantino - RBB\n",
      "Fluminense - FLU\n",
      "São Paulo - SAO\n",
      "Internacional - INT\n",
      "Athletico-PR - CAP\n",
      "Atlético-MG - CAM\n",
      "Fortaleza - FOR\n",
      "Cruzeiro - CRU\n",
      "Cuiabá - CUI\n",
      "Santos - SAN\n",
      "Bahia - BAH\n",
      "Corinthians - COR\n",
      "Goiás - GOI\n",
      "Vasco - VAS\n",
      "América-MG - AME\n",
      "Coritiba - CFC\n"
     ]
    }
   ],
   "source": [
    "driver = webdriver.Firefox()\n",
    "url = \"https://ge.globo.com/futebol/brasileirao-serie-a/\"\n",
    "driver.get(url)\n",
    "tabela_equipes = WebDriverWait(driver, 10).until(\n",
    "    EC.presence_of_element_located((By.CLASS_NAME, 'tabela__equipes'))\n",
    ")\n",
    "linhas_times = tabela_equipes.find_elements(By.CSS_SELECTOR, 'tr.classificacao__tabela--linha')\n",
    "clubes = []\n",
    "for linha in linhas_times:\n",
    "    nome_time = linha.find_element(By.CSS_SELECTOR, '.classificacao__equipes--nome').text\n",
    "    abreviacao_element = linha.find_element(By.CSS_SELECTOR, '.classificacao__equipes--sigla')\n",
    "    abreviacao = abreviacao_element.get_attribute(\"innerHTML\")\n",
    "    clubes.append((nome_time, abreviacao))\n",
    "\n",
    "driver.quit()\n",
    "\n",
    "conn = sqlite3.connect('/home/ruhrik/Documents/brasileirao.db')\n",
    "cursor = conn.cursor()\n",
    "\n",
    "for clube in clubes:\n",
    "    nome_time, abreviacao = clube\n",
    "    cursor.execute(\"SELECT abreviacao FROM TIME WHERE abreviacao=?\", (abreviacao,))\n",
    "    existing_abreviation = cursor.fetchone()\n",
    "    if existing_abreviation is None:\n",
    "        cursor.execute(\"INSERT INTO TIME (clube, abreviacao) VALUES (?, ?)\", (nome_time, abreviacao))\n",
    "conn.commit()\n",
    "conn.close()\n",
    "for clube in clubes:\n",
    "    print(clube[0], \"-\", clube[1])"
   ],
   "metadata": {
    "collapsed": false,
    "ExecuteTime": {
     "end_time": "2023-07-06T18:12:50.080872576Z",
     "start_time": "2023-07-06T18:12:41.855058400Z"
    }
   }
  },
  {
   "cell_type": "code",
   "execution_count": 38,
   "outputs": [],
   "source": [],
   "metadata": {
    "collapsed": false,
    "ExecuteTime": {
     "end_time": "2023-07-06T19:02:06.568808959Z",
     "start_time": "2023-07-06T19:02:06.553886253Z"
    }
   }
  },
  {
   "cell_type": "code",
   "execution_count": 38,
   "outputs": [],
   "source": [],
   "metadata": {
    "collapsed": false,
    "ExecuteTime": {
     "end_time": "2023-07-06T19:02:05.055224178Z",
     "start_time": "2023-07-06T19:02:05.037821542Z"
    }
   }
  },
  {
   "cell_type": "code",
   "execution_count": 38,
   "outputs": [],
   "source": [],
   "metadata": {
    "collapsed": false,
    "ExecuteTime": {
     "end_time": "2023-07-06T19:02:03.543297382Z",
     "start_time": "2023-07-06T19:02:03.537088832Z"
    }
   }
  }
 ],
 "metadata": {
  "kernelspec": {
   "display_name": "Python 3",
   "language": "python",
   "name": "python3"
  },
  "language_info": {
   "codemirror_mode": {
    "name": "ipython",
    "version": 2
   },
   "file_extension": ".py",
   "mimetype": "text/x-python",
   "name": "python",
   "nbconvert_exporter": "python",
   "pygments_lexer": "ipython2",
   "version": "2.7.6"
  }
 },
 "nbformat": 4,
 "nbformat_minor": 0
}
